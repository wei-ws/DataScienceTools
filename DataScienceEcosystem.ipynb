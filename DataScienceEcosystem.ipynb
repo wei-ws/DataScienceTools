{
 "cells": [
  {
   "cell_type": "markdown",
   "id": "5ee85fda-2a48-4547-b432-67639b771b63",
   "metadata": {},
   "source": [
    "# Data Science Tools and Ecosystem"
   ]
  },
  {
   "cell_type": "markdown",
   "id": "fc1d544c-41cc-4b12-bfec-3e1241dfd94c",
   "metadata": {},
   "source": [
    "In this notebook, Data Science Tools and Ecosystem are summarized."
   ]
  },
  {
   "cell_type": "markdown",
   "id": "9da5c730-6128-4414-9258-986c32a3ce53",
   "metadata": {},
   "source": [
    "__Objectives:__\n",
    "- List popular languages for Data Science\n",
    "- Understand Data Science task categories\n",
    "- List popular libraries for Data Science\n",
    "- List popular tools for each Data Science task category"
   ]
  },
  {
   "cell_type": "markdown",
   "id": "53300568-2ebc-446e-bac1-a74cdaa9c4ee",
   "metadata": {},
   "source": [
    "Some of the popular languages that Data Scientists use are:\n",
    "1. Python\n",
    "2. R\n",
    "3. Scala\n",
    "4. C++\n",
    "5. Java\n",
    "6. C\n",
    "7. Go\n",
    "8. JavaScript"
   ]
  },
  {
   "cell_type": "markdown",
   "id": "d77d7cb2-2594-40f7-a740-b5d2fbc50f5e",
   "metadata": {},
   "source": [
    "Some of the commonly used libraries used by Data Scientists include:\n",
    "1. Pandas\n",
    "2. Numpy\n",
    "3. Scikit-learn"
   ]
  },
  {
   "cell_type": "markdown",
   "id": "d47b0658-74f7-4030-aba2-f822a9166cfd",
   "metadata": {},
   "source": [
    "|Data Science Tools|\n",
    "|------------------|\n",
    "|1. Jupyter|\n",
    "|2. JupyterLab|\n",
    "|3. Apache Zeppelin|"
   ]
  },
  {
   "cell_type": "markdown",
   "id": "c8d69c72-24d3-4d63-b2a2-7c6a718813a0",
   "metadata": {},
   "source": [
    "### Below are a few examples of evaluating arithmetic expresions in Python."
   ]
  },
  {
   "cell_type": "code",
   "execution_count": 3,
   "id": "50ab02ee-cff7-4cd1-880f-553897f032e6",
   "metadata": {},
   "outputs": [
    {
     "data": {
      "text/plain": [
       "17"
      ]
     },
     "execution_count": 3,
     "metadata": {},
     "output_type": "execute_result"
    }
   ],
   "source": [
    "# This is a simple arithmetic expression to multiply then add integers\n",
    "(3*4)+5"
   ]
  },
  {
   "cell_type": "code",
   "execution_count": 6,
   "id": "9e5ecf75-d7b3-472b-9398-4652c89cb289",
   "metadata": {},
   "outputs": [
    {
     "name": "stdout",
     "output_type": "stream",
     "text": [
      "3.3333333333333335\n"
     ]
    }
   ],
   "source": [
    "# This will convert 200 minutes to hours by dividing by 60\n",
    "minutes = 200\n",
    "hours = minutes/60\n",
    "print(hours)"
   ]
  },
  {
   "cell_type": "markdown",
   "id": "ae09683c-f16f-4cda-844c-7bbc741dfaad",
   "metadata": {},
   "source": [
    "## Author\n",
    "Wei Shien Chang"
   ]
  },
  {
   "cell_type": "code",
   "execution_count": null,
   "id": "65f3a49d-582f-437a-bae8-cbff58ce94ea",
   "metadata": {},
   "outputs": [],
   "source": []
  }
 ],
 "metadata": {
  "kernelspec": {
   "display_name": "Python 3",
   "language": "python",
   "name": "python3"
  },
  "language_info": {
   "codemirror_mode": {
    "name": "ipython",
    "version": 3
   },
   "file_extension": ".py",
   "mimetype": "text/x-python",
   "name": "python",
   "nbconvert_exporter": "python",
   "pygments_lexer": "ipython3",
   "version": "3.8.8"
  }
 },
 "nbformat": 4,
 "nbformat_minor": 5
}
